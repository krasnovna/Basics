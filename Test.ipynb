{
 "cells": [
  {
   "cell_type": "markdown",
   "id": "112ec3f1",
   "metadata": {},
   "source": [
    "### SQL Basics"
   ]
  },
  {
   "cell_type": "code",
   "execution_count": 36,
   "id": "8a8f6bc9",
   "metadata": {},
   "outputs": [],
   "source": [
    "import pandas as pd\n",
    "import numpy as np\n",
    "import random\n",
    "import collections\n",
    "import time\n",
    "import re"
   ]
  },
  {
   "cell_type": "code",
   "execution_count": 2,
   "id": "b4ff2249",
   "metadata": {},
   "outputs": [],
   "source": [
    "ios_versions = [\n",
    "                '9.3.5', \n",
    "                '9.3.6',\n",
    "                '10.3.3',\n",
    "                '10.3.4',\n",
    "                '12.5.5',\n",
    "                '14.8.1',\n",
    "                '15.3.1',\n",
    "                '15.4'\n",
    "                ]\n",
    "\n",
    "android_versions = [\n",
    "                '4.3.1', \n",
    "                '4.4',\n",
    "                '4.4.4',\n",
    "                '5.0',\n",
    "                '5.1.1',\n",
    "                '6.0',\n",
    "                '6.0.1',\n",
    "                '7.0',\n",
    "                '7.1.2',\n",
    "                '8.0',\n",
    "                '8.1',\n",
    "                '9',\n",
    "                '11',\n",
    "                '12'\n",
    "                ]\n"
   ]
  },
  {
   "cell_type": "code",
   "execution_count": 4,
   "id": "d7279d64",
   "metadata": {},
   "outputs": [
    {
     "name": "stdout",
     "output_type": "stream",
     "text": [
      "['android']\n"
     ]
    }
   ],
   "source": [
    "random.seed(10)\n",
    "mobile_os = [\"android\", \"ios\"]\n",
    "distribution = [.75, .25]\n",
    "\n",
    "random_number = random.choices(mobile_os , distribution)\n",
    "\n",
    "print(random_number)"
   ]
  },
  {
   "cell_type": "code",
   "execution_count": 5,
   "id": "64b1c989",
   "metadata": {},
   "outputs": [],
   "source": [
    "random.seed(10)\n",
    "# pd.DataFrame( data  = random.choices(mobile_os , distribution, k = 10000),\n",
    "#                 columns = ['x']).value_counts()\n",
    "mobile_list = random.choices(mobile_os , distribution, k = 10000)\n",
    "\n",
    "db_data = [ (i, w, random.choice(ios_versions) ) if w == 'ios' else\n",
    "  (i,w, random.choice(android_versions)  ) for i,w in enumerate(mobile_list)]"
   ]
  },
  {
   "cell_type": "markdown",
   "id": "42159c60",
   "metadata": {},
   "source": [
    "### Create and populate table with OS Versions\n",
    "```sql\n",
    "CREATE TABLE IF NOT EXISTS os_versions(\n",
    "                      user_id integer, \n",
    "                      mobile_os text, \n",
    "                      mobile_version text ) ;\n",
    "```"
   ]
  },
  {
   "cell_type": "code",
   "execution_count": 49,
   "id": "55f494cf",
   "metadata": {},
   "outputs": [],
   "source": [
    "# CREATING THE TABLE: OS versions \n",
    "import sqlite3\n",
    "conn = sqlite3.connect('test.db')\n",
    "\n",
    "conn.execute('''\n",
    "CREATE TABLE IF NOT EXISTS os_versions(\n",
    "                      user_id integer, \n",
    "                      mobile_os text, \n",
    "                      mobile_version ) ;\n",
    "             ''')\n",
    "\n",
    "conn.commit()\n",
    "conn.close()\n",
    "\n",
    "# Inserting prepared values \n",
    "conn = sqlite3.connect('test.db')\n",
    "\n",
    "for i in range(len(db_data)):\n",
    "    conn.execute('INSERT INTO os_versions VALUES' + str(db_data[i]))\n",
    "\n",
    "conn.execute(\"INSERT INTO os_versions VALUES(10000, 'ios', 'Sierra')\" )\n",
    "conn.execute(\"INSERT INTO os_versions VALUES(10001, 'ios', 'Snow Cone')\" )\n",
    "conn.execute(\"INSERT INTO os_versions VALUES(10002, 'ios', NULL)\" )\n",
    "conn.execute(\"INSERT INTO os_versions VALUES(10003, 'android', NULL)\" )\n",
    "\n",
    "\n",
    "conn.commit()\n"
   ]
  },
  {
   "cell_type": "markdown",
   "id": "e442e873",
   "metadata": {},
   "source": [
    "### Example of 1 row from os_versions_table"
   ]
  },
  {
   "cell_type": "code",
   "execution_count": 50,
   "id": "fb7daec1",
   "metadata": {},
   "outputs": [],
   "source": [
    "sql = ''' SELECT * from os_versions limit 1; '''               \n",
    "# example \n",
    "conn = sqlite3.connect('test.db')\n",
    "c = conn.cursor()\n",
    "\n",
    "c.execute(sql)\n",
    "df = pd.DataFrame(c.fetchall(), \n",
    "                  columns = [desc[0] for desc in c.description]\n",
    "                 )\n",
    "conn.close()"
   ]
  },
  {
   "cell_type": "code",
   "execution_count": 52,
   "id": "183f0ba5",
   "metadata": {},
   "outputs": [
    {
     "data": {
      "text/html": [
       "<div>\n",
       "<style scoped>\n",
       "    .dataframe tbody tr th:only-of-type {\n",
       "        vertical-align: middle;\n",
       "    }\n",
       "\n",
       "    .dataframe tbody tr th {\n",
       "        vertical-align: top;\n",
       "    }\n",
       "\n",
       "    .dataframe thead th {\n",
       "        text-align: right;\n",
       "    }\n",
       "</style>\n",
       "<table border=\"1\" class=\"dataframe\">\n",
       "  <thead>\n",
       "    <tr style=\"text-align: right;\">\n",
       "      <th></th>\n",
       "      <th>id</th>\n",
       "      <th>mobile_os</th>\n",
       "      <th>mobile_version</th>\n",
       "    </tr>\n",
       "  </thead>\n",
       "  <tbody>\n",
       "    <tr>\n",
       "      <th>0</th>\n",
       "      <td>0</td>\n",
       "      <td>android</td>\n",
       "      <td>4.4</td>\n",
       "    </tr>\n",
       "  </tbody>\n",
       "</table>\n",
       "</div>"
      ],
      "text/plain": [
       "   id mobile_os mobile_version\n",
       "0   0   android            4.4"
      ]
     },
     "execution_count": 52,
     "metadata": {},
     "output_type": "execute_result"
    }
   ],
   "source": [
    "df"
   ]
  },
  {
   "cell_type": "markdown",
   "id": "6e3d5ad3",
   "metadata": {},
   "source": [
    "### SQL\n",
    "\n",
    "### Task1: \n",
    "- Написать SQL скрипт: <br>\n",
    "  отобрать версии выше чем 10.1 и ниже чем 9.2 <br>\n",
    "  посчитать кол-во пользователей на каждой версии с учетом операционной системы ios/android <br>\n",
    "  отсортировать рез-т по операционной системе( сначала IOS ) и по версии от старой к новой <br> \n",
    "- Запустить исполнение ниже и получить DataFrame\n",
    "\n",
    "### Questions1:\n",
    "- Как можно улучшить хранение данных с точки зрения типов ( ddl выше )? \n"
   ]
  },
  {
   "cell_type": "code",
   "execution_count": 92,
   "id": "bd9bb73a",
   "metadata": {},
   "outputs": [],
   "source": [
    "def reg_replace(s):\n",
    "    if s is not None:\n",
    "        w = re.sub('[\\d\\.]', '', s)\n",
    "    else:\n",
    "        w = None\n",
    "    return w \n",
    "        \n",
    "def str_split(s,sep,num):\n",
    "    return s.split('.')[num-1]\n",
    "    \n",
    "sql = '''\n",
    "        select mobile_os, mobile_version, count(1) as c \n",
    "        from (\n",
    "        select t.*, \n",
    "        cast( str_split(coalesce(mobile_version,'') || '.0','.',1) as int ) as p1,\n",
    "        cast( str_split(coalesce(mobile_version,'') || '.0','.',2) as int ) as p2\n",
    "        from (\n",
    "            select * from  \n",
    "            os_versions\n",
    "            where \n",
    "            length( reg_replace(coalesce(mobile_version,'') || '' ) ) = 0  \n",
    "            ) t\n",
    "            ) t \n",
    "        where ( ( p1 = 10 and p2 > 1 ) or p1 > 10 )\n",
    "                or ( ( p1 = 9 and p2 < 2 ) or p1 between 1 and 8 )\n",
    "        group by mobile_os, mobile_version\n",
    "        order by mobile_os desc, p1, mobile_version ;\n",
    "    '''              \n",
    "# example \n",
    "conn = sqlite3.connect('test.db')\n",
    "c = conn.cursor()\n",
    "\n",
    "conn.create_function(\"reg_replace\", 1, reg_replace)\n",
    "conn.create_function(\"str_split\", 3, str_split)\n",
    "\n",
    "c.execute(sql)\n",
    "df = pd.DataFrame(c.fetchall(), \n",
    "                  columns = [desc[0] for desc in c.description]\n",
    "                 )\n",
    "conn.close()"
   ]
  },
  {
   "cell_type": "code",
   "execution_count": 95,
   "id": "b301142e",
   "metadata": {},
   "outputs": [
    {
     "data": {
      "text/html": [
       "<div>\n",
       "<style scoped>\n",
       "    .dataframe tbody tr th:only-of-type {\n",
       "        vertical-align: middle;\n",
       "    }\n",
       "\n",
       "    .dataframe tbody tr th {\n",
       "        vertical-align: top;\n",
       "    }\n",
       "\n",
       "    .dataframe thead th {\n",
       "        text-align: right;\n",
       "    }\n",
       "</style>\n",
       "<table border=\"1\" class=\"dataframe\">\n",
       "  <thead>\n",
       "    <tr style=\"text-align: right;\">\n",
       "      <th></th>\n",
       "      <th>mobile_os</th>\n",
       "      <th>mobile_version</th>\n",
       "      <th>c</th>\n",
       "    </tr>\n",
       "  </thead>\n",
       "  <tbody>\n",
       "    <tr>\n",
       "      <th>0</th>\n",
       "      <td>ios</td>\n",
       "      <td>10.3.3</td>\n",
       "      <td>1104</td>\n",
       "    </tr>\n",
       "    <tr>\n",
       "      <th>1</th>\n",
       "      <td>ios</td>\n",
       "      <td>10.3.4</td>\n",
       "      <td>1180</td>\n",
       "    </tr>\n",
       "    <tr>\n",
       "      <th>2</th>\n",
       "      <td>ios</td>\n",
       "      <td>12.5.5</td>\n",
       "      <td>1272</td>\n",
       "    </tr>\n",
       "    <tr>\n",
       "      <th>3</th>\n",
       "      <td>ios</td>\n",
       "      <td>14.8.1</td>\n",
       "      <td>1216</td>\n",
       "    </tr>\n",
       "    <tr>\n",
       "      <th>4</th>\n",
       "      <td>ios</td>\n",
       "      <td>15.3.1</td>\n",
       "      <td>1264</td>\n",
       "    </tr>\n",
       "    <tr>\n",
       "      <th>5</th>\n",
       "      <td>ios</td>\n",
       "      <td>15.4</td>\n",
       "      <td>1284</td>\n",
       "    </tr>\n",
       "    <tr>\n",
       "      <th>6</th>\n",
       "      <td>android</td>\n",
       "      <td>4.3.1</td>\n",
       "      <td>2304</td>\n",
       "    </tr>\n",
       "    <tr>\n",
       "      <th>7</th>\n",
       "      <td>android</td>\n",
       "      <td>4.4</td>\n",
       "      <td>2096</td>\n",
       "    </tr>\n",
       "    <tr>\n",
       "      <th>8</th>\n",
       "      <td>android</td>\n",
       "      <td>4.4.4</td>\n",
       "      <td>2296</td>\n",
       "    </tr>\n",
       "    <tr>\n",
       "      <th>9</th>\n",
       "      <td>android</td>\n",
       "      <td>5.0</td>\n",
       "      <td>2188</td>\n",
       "    </tr>\n",
       "    <tr>\n",
       "      <th>10</th>\n",
       "      <td>android</td>\n",
       "      <td>5.1.1</td>\n",
       "      <td>2080</td>\n",
       "    </tr>\n",
       "    <tr>\n",
       "      <th>11</th>\n",
       "      <td>android</td>\n",
       "      <td>6.0</td>\n",
       "      <td>2304</td>\n",
       "    </tr>\n",
       "    <tr>\n",
       "      <th>12</th>\n",
       "      <td>android</td>\n",
       "      <td>6.0.1</td>\n",
       "      <td>2252</td>\n",
       "    </tr>\n",
       "    <tr>\n",
       "      <th>13</th>\n",
       "      <td>android</td>\n",
       "      <td>7.0</td>\n",
       "      <td>2176</td>\n",
       "    </tr>\n",
       "    <tr>\n",
       "      <th>14</th>\n",
       "      <td>android</td>\n",
       "      <td>7.1.2</td>\n",
       "      <td>2040</td>\n",
       "    </tr>\n",
       "    <tr>\n",
       "      <th>15</th>\n",
       "      <td>android</td>\n",
       "      <td>8.0</td>\n",
       "      <td>2144</td>\n",
       "    </tr>\n",
       "    <tr>\n",
       "      <th>16</th>\n",
       "      <td>android</td>\n",
       "      <td>8.1</td>\n",
       "      <td>2096</td>\n",
       "    </tr>\n",
       "    <tr>\n",
       "      <th>17</th>\n",
       "      <td>android</td>\n",
       "      <td>9</td>\n",
       "      <td>1976</td>\n",
       "    </tr>\n",
       "    <tr>\n",
       "      <th>18</th>\n",
       "      <td>android</td>\n",
       "      <td>11</td>\n",
       "      <td>2108</td>\n",
       "    </tr>\n",
       "    <tr>\n",
       "      <th>19</th>\n",
       "      <td>android</td>\n",
       "      <td>12</td>\n",
       "      <td>2176</td>\n",
       "    </tr>\n",
       "  </tbody>\n",
       "</table>\n",
       "</div>"
      ],
      "text/plain": [
       "   mobile_os mobile_version     c\n",
       "0        ios         10.3.3  1104\n",
       "1        ios         10.3.4  1180\n",
       "2        ios         12.5.5  1272\n",
       "3        ios         14.8.1  1216\n",
       "4        ios         15.3.1  1264\n",
       "5        ios           15.4  1284\n",
       "6    android          4.3.1  2304\n",
       "7    android            4.4  2096\n",
       "8    android          4.4.4  2296\n",
       "9    android            5.0  2188\n",
       "10   android          5.1.1  2080\n",
       "11   android            6.0  2304\n",
       "12   android          6.0.1  2252\n",
       "13   android            7.0  2176\n",
       "14   android          7.1.2  2040\n",
       "15   android            8.0  2144\n",
       "16   android            8.1  2096\n",
       "17   android              9  1976\n",
       "18   android             11  2108\n",
       "19   android             12  2176"
      ]
     },
     "execution_count": 95,
     "metadata": {},
     "output_type": "execute_result"
    }
   ],
   "source": [
    "df"
   ]
  },
  {
   "cell_type": "markdown",
   "id": "2e718e1f",
   "metadata": {},
   "source": [
    "### Python programming\n",
    "\n",
    "### Task1: \n",
    "- Полученный из SQL DataFrame преобразовать в dict  ключом вида tuple (mobile_os,mobile_version ) и значением с \n",
    "- reverse string написать ф-цию. Big O notation оценить сложность?\n",
    "### Questions:\n",
    "- Как посмотреть тип объекта ? \n",
    "- Какие итераторы есть у словаря ( dict )/ какой используется по дефолту ?"
   ]
  },
  {
   "cell_type": "code",
   "execution_count": 106,
   "id": "6ebee076",
   "metadata": {},
   "outputs": [],
   "source": [
    "version_dict = dict(\n",
    "    zip(\n",
    "    [(x,y) for x,y in zip(df['mobile_os'].values,df['mobile_version'].values)],\n",
    "    df['c'].values\n",
    "    )\n",
    ")"
   ]
  },
  {
   "cell_type": "markdown",
   "id": "c1d039df",
   "metadata": {},
   "source": [
    "### Stats\n",
    "### Tasks\n",
    "- Рассказать ключевые параметры Bivariate Normal Distribution на примере ниже\n",
    "\n",
    "### Questions\n",
    "- (*) Что означает cov(X1,X2) = 0 в данном случае. Независимы ли X1 и X2?\n",
    "- Что означает, что случайные величины X1 и X2 независимы ?\n",
    "- Написать формулу Байеса для случая бинарные классификации. Как определить Байесовское правило для принятия решения по точке (x1,x2 ) ?"
   ]
  },
  {
   "cell_type": "code",
   "execution_count": 198,
   "id": "9ef97d2a",
   "metadata": {},
   "outputs": [
    {
     "data": {
      "text/plain": [
       "(-2.737203636443793, 4.436844863719486, -3.4337441387295247, 2.882122214893548)"
      ]
     },
     "execution_count": 198,
     "metadata": {},
     "output_type": "execute_result"
    },
    {
     "data": {
      "image/png": "[encoded data removed]",
      "text/plain": [
       "<Figure size 360x360 with 1 Axes>"
      ]
     },
     "metadata": {
      "needs_background": "light"
     },
     "output_type": "display_data"
    }
   ],
   "source": [
    "X = np.random.multivariate_normal(mean = [1,0], cov = [[1,0],[0,1]], size = 1000)\n",
    "fig, ax = plt.subplots( 1,1, figsize = (5,5))\n",
    "plt.scatter(X[:,0],X[:,1],)\n",
    "ax.axis('equal')"
   ]
  },
  {
   "cell_type": "code",
   "execution_count": 202,
   "id": "63695abb",
   "metadata": {},
   "outputs": [],
   "source": [
    "Y = []\n",
    "X = []\n",
    "for i in range(100):\n",
    "    X.append(np.random.multivariate_normal([1,0], [[1,0],[0,1]]))\n",
    "    Y.append(0)\n",
    "\n",
    "for i in range(100):\n",
    "    X.append(np.random.multivariate_normal([0,1], [[1,0],[0,1]]))\n",
    "    Y.append(1)\n",
    "\n",
    "X = np.vstack(X)\n",
    "target = np.array(Y,ndmin = 2).T"
   ]
  },
  {
   "cell_type": "code",
   "execution_count": 203,
   "id": "d20a37b7",
   "metadata": {},
   "outputs": [
    {
     "data": {
      "image/png": "[encoded data removed]",
      "text/plain": [
       "<Figure size 576x576 with 1 Axes>"
      ]
     },
     "metadata": {
      "needs_background": "light"
     },
     "output_type": "display_data"
    }
   ],
   "source": [
    "fig, ax = plt.subplots(figsize = (8,8))\n",
    "ax.scatter(x_input[:,0],x_input[:,1], \n",
    "           facecolors='None',\n",
    "            edgecolors = ['#ADD8E6' if y == 0 else '#FFA500' for y in target], \n",
    "           marker ='o' , s = 50)\n",
    "ax.set_ylim((-1+min(x_input[:,1]), 1+max(x_input[:,1])))\n",
    "plt.show()"
   ]
  }
 ],
 "metadata": {
  "kernelspec": {
   "display_name": "Python 3 (ipykernel)",
   "language": "python",
   "name": "python3"
  },
  "language_info": {
   "codemirror_mode": {
    "name": "ipython",
    "version": 3
   },
   "file_extension": ".py",
   "mimetype": "text/x-python",
   "name": "python",
   "nbconvert_exporter": "python",
   "pygments_lexer": "ipython3",
   "version": "3.9.7"
  }
 },
 "nbformat": 4,
 "nbformat_minor": 5
}
